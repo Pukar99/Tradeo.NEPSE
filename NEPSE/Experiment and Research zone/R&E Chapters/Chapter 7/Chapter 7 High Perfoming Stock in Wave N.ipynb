{
 "cells": [
  {
   "cell_type": "markdown",
   "metadata": {},
   "source": [
    "I have directly pased the data form teh chukul to txt file data.txt. so for the making the data pattern in csv file the folling code is used :"
   ]
  },
  {
   "cell_type": "code",
   "execution_count": 1,
   "metadata": {},
   "outputs": [
    {
     "name": "stdout",
     "output_type": "stream",
     "text": [
      "CSV file created successfully: output.csv\n"
     ]
    }
   ],
   "source": [
    "import csv\n",
    "\n",
    "# Read data from text file\n",
    "with open('data.txt', 'r') as f:\n",
    "    lines = [line.strip() for line in f.readlines()]\n",
    "\n",
    "# Remove any empty lines\n",
    "lines = [line for line in lines if line]\n",
    "\n",
    "# Process data in chunks of 4 lines each\n",
    "data = []\n",
    "for i in range(0, len(lines), 4):\n",
    "    chunk = lines[i:i+4]\n",
    "    if len(chunk) != 4:\n",
    "        print(f\"Skipping incomplete record at line {i+1}\")\n",
    "        continue\n",
    "    \n",
    "    company = chunk[0]\n",
    "    \n",
    "    # Split LTP numbers (handle any whitespace/tabs)\n",
    "    ltp_numbers = chunk[1].split()\n",
    "    if len(ltp_numbers) < 2:\n",
    "        print(f\"Skipping invalid LTP data at line {i+2}\")\n",
    "        continue\n",
    "    \n",
    "    recent_close = ltp_numbers[0]\n",
    "    previous_close = ltp_numbers[1]\n",
    "    \n",
    "    # Clean percentage value\n",
    "    percentage = chunk[2].replace('%', '').strip()\n",
    "    \n",
    "    # Point change\n",
    "    point_change = chunk[3]\n",
    "    \n",
    "    data.append([\n",
    "        company,\n",
    "        recent_close,\n",
    "        previous_close,\n",
    "        percentage,\n",
    "        point_change\n",
    "    ])\n",
    "\n",
    "# Write to CSV file\n",
    "with open('output.csv', 'w', newline='') as f:\n",
    "    writer = csv.writer(f)\n",
    "    # Write header\n",
    "    writer.writerow([\n",
    "        'Company', \n",
    "        'Recent Close LTP', \n",
    "        'Previous Close LTP', \n",
    "        'Percentage Difference', \n",
    "        'Point Change'\n",
    "    ])\n",
    "    # Write data\n",
    "    writer.writerows(data)\n",
    "\n",
    "print(\"CSV file created successfully: output.csv\")"
   ]
  },
  {
   "cell_type": "code",
   "execution_count": 2,
   "metadata": {},
   "outputs": [
    {
     "name": "stdout",
     "output_type": "stream",
     "text": [
      "    Company  Recent Close LTP  Previous Close LTP  Percentage Difference  \\\n",
      "0       NFS           2070.00              532.00                 289.10   \n",
      "1      CHDC           1603.60              624.32                 156.86   \n",
      "2      GFCL           1150.00              462.90                 148.43   \n",
      "3       MHL            885.71              371.43                 138.46   \n",
      "4     PROFL            785.00              341.00                 130.21   \n",
      "..      ...               ...                 ...                    ...   \n",
      "255     PFL            700.00              656.00                   6.71   \n",
      "256    CYCL           1525.00             1646.00                  -7.35   \n",
      "257   GLBSL           1566.74             1754.05                 -10.68   \n",
      "258    ILBS           1100.00             1365.00                 -19.41   \n",
      "259    USLB           1560.00             2163.40                 -27.89   \n",
      "\n",
      "     Point Change  \n",
      "0         1538.00  \n",
      "1          979.28  \n",
      "2          687.10  \n",
      "3          514.28  \n",
      "4          444.00  \n",
      "..            ...  \n",
      "255         44.00  \n",
      "256       -121.00  \n",
      "257       -187.31  \n",
      "258       -265.00  \n",
      "259       -603.40  \n",
      "\n",
      "[260 rows x 5 columns]\n"
     ]
    }
   ],
   "source": [
    "import pandas as pd\n",
    "\n",
    "# Read the CSV file\n",
    "df = pd.read_csv('output.csv')\n",
    "\n",
    "# Display the dataframe\n",
    "print(df)"
   ]
  },
  {
   "cell_type": "code",
   "execution_count": 4,
   "metadata": {},
   "outputs": [
    {
     "name": "stdout",
     "output_type": "stream",
     "text": [
      "Created file: output_0-50%.csv with 138 rows\n",
      "Created file: output_50-100%.csv with 103 rows\n",
      "Created file: output_100-150%.csv with 13 rows\n",
      "Created file: output_150-200%.csv with 1 rows\n",
      "Created file: output_200-250%.csv with 0 rows\n",
      "Created file: output_250-300%.csv with 1 rows\n",
      "Created file: output_300-inf%.csv with 0 rows\n",
      "All files created successfully.\n"
     ]
    }
   ],
   "source": [
    "import csv\n",
    "\n",
    "# Define the percentage ranges\n",
    "ranges = [\n",
    "    (0, 50),\n",
    "    (50, 100),\n",
    "    (100, 150),\n",
    "    (150, 200),\n",
    "    (200, 250),\n",
    "    (250, 300),\n",
    "    (300, float('inf'))  # For percentages above 300%\n",
    "]\n",
    "\n",
    "# Read data from the CSV file\n",
    "with open('output.csv', 'r') as f:\n",
    "    reader = csv.reader(f)\n",
    "    header = next(reader)  # Read the header\n",
    "    data = list(reader)   # Read the rest of the data\n",
    "\n",
    "# Initialize a dictionary to hold data for each range\n",
    "range_data = {f\"{low}-{high}%\": [] for low, high in ranges}\n",
    "\n",
    "# Process each row of data\n",
    "for row in data:\n",
    "    try:\n",
    "        # Extract percentage (remove '%' and convert to float)\n",
    "        percentage = float(row[3].replace('%', ''))\n",
    "        \n",
    "        # Find the appropriate range for this percentage\n",
    "        for low, high in ranges:\n",
    "            if low <= percentage < high:\n",
    "                range_key = f\"{low}-{high}%\"\n",
    "                range_data[range_key].append(row)\n",
    "                break\n",
    "    except (ValueError, IndexError):\n",
    "        print(f\"Skipping invalid row: {row}\")\n",
    "\n",
    "# Write data to separate CSV files for each range\n",
    "for range_key, rows in range_data.items():\n",
    "    output_file = f\"output_{range_key}.csv\"\n",
    "    with open(output_file, 'w', newline='') as f:\n",
    "        writer = csv.writer(f)\n",
    "        writer.writerow(header)  # Write the header\n",
    "        writer.writerows(rows)   # Write the rows\n",
    "    print(f\"Created file: {output_file} with {len(rows)} rows\")\n",
    "\n",
    "print(\"All files created successfully.\")"
   ]
  },
  {
   "cell_type": "code",
   "execution_count": 5,
   "metadata": {},
   "outputs": [
    {
     "name": "stdout",
     "output_type": "stream",
     "text": [
      "Company Counts by Percentage Range:\n",
      "0-50%: 138 companies\n",
      "50-100%: 103 companies\n",
      "100-150%: 13 companies\n",
      "150-200%: 1 companies\n",
      "200-250%: 0 companies\n",
      "250-300%: 1 companies\n",
      "300-inf%: 0 companies\n"
     ]
    }
   ],
   "source": [
    "import csv\n",
    "\n",
    "# Define the percentage ranges\n",
    "ranges = [\n",
    "    (0, 50),\n",
    "    (50, 100),\n",
    "    (100, 150),\n",
    "    (150, 200),\n",
    "    (200, 250),\n",
    "    (250, 300),\n",
    "    (300, float('inf'))  # For percentages above 300%\n",
    "]\n",
    "\n",
    "# Read data from the CSV file\n",
    "with open('output.csv', 'r') as f:\n",
    "    reader = csv.reader(f)\n",
    "    header = next(reader)  # Read the header\n",
    "    data = list(reader)   # Read the rest of the data\n",
    "\n",
    "# Initialize a dictionary to hold counts for each range\n",
    "range_counts = {f\"{low}-{high}%\": 0 for low, high in ranges}\n",
    "\n",
    "# Process each row of data\n",
    "for row in data:\n",
    "    try:\n",
    "        # Extract percentage (remove '%' and convert to float)\n",
    "        percentage = float(row[3].replace('%', ''))\n",
    "        \n",
    "        # Find the appropriate range for this percentage\n",
    "        for low, high in ranges:\n",
    "            if low <= percentage < high:\n",
    "                range_key = f\"{low}-{high}%\"\n",
    "                range_counts[range_key] += 1\n",
    "                break\n",
    "    except (ValueError, IndexError):\n",
    "        print(f\"Skipping invalid row: {row}\")\n",
    "\n",
    "# Display the counts\n",
    "print(\"Company Counts by Percentage Range:\")\n",
    "for range_key, count in range_counts.items():\n",
    "    print(f\"{range_key}: {count} companies\")"
   ]
  },
  {
   "cell_type": "code",
   "execution_count": null,
   "metadata": {},
   "outputs": [],
   "source": []
  }
 ],
 "metadata": {
  "kernelspec": {
   "display_name": "Python 3",
   "language": "python",
   "name": "python3"
  },
  "language_info": {
   "codemirror_mode": {
    "name": "ipython",
    "version": 3
   },
   "file_extension": ".py",
   "mimetype": "text/x-python",
   "name": "python",
   "nbconvert_exporter": "python",
   "pygments_lexer": "ipython3",
   "version": "3.10.0"
  }
 },
 "nbformat": 4,
 "nbformat_minor": 2
}
