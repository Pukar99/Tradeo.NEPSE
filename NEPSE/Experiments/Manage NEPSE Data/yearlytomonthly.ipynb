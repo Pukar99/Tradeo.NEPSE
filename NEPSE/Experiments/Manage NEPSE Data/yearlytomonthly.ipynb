{
 "cells": [
  {
   "cell_type": "markdown",
   "metadata": {},
   "source": [
    "## Here I have done breakdwon of whole year data of nepse from 2021 JAN TO 2021 DEC by seperating each monthly with csv file. "
   ]
  },
  {
   "cell_type": "code",
   "execution_count": 3,
   "metadata": {},
   "outputs": [],
   "source": [
    "import numpy as np\n",
    "import pandas as pd\n"
   ]
  },
  {
   "cell_type": "code",
   "execution_count": 7,
   "metadata": {},
   "outputs": [],
   "source": [
    "df = pd.read_csv('../../Historical Data/2021/NEPSE2021JAN_DEC.csv')\n"
   ]
  },
  {
   "cell_type": "code",
   "execution_count": 8,
   "metadata": {},
   "outputs": [
    {
     "data": {
      "text/html": [
       "<div>\n",
       "<style scoped>\n",
       "    .dataframe tbody tr th:only-of-type {\n",
       "        vertical-align: middle;\n",
       "    }\n",
       "\n",
       "    .dataframe tbody tr th {\n",
       "        vertical-align: top;\n",
       "    }\n",
       "\n",
       "    .dataframe thead th {\n",
       "        text-align: right;\n",
       "    }\n",
       "</style>\n",
       "<table border=\"1\" class=\"dataframe\">\n",
       "  <thead>\n",
       "    <tr style=\"text-align: right;\">\n",
       "      <th></th>\n",
       "      <th>Symbol</th>\n",
       "      <th>Date</th>\n",
       "      <th>Open</th>\n",
       "      <th>High</th>\n",
       "      <th>Low</th>\n",
       "      <th>Close</th>\n",
       "      <th>Percent Change</th>\n",
       "      <th>Volume</th>\n",
       "    </tr>\n",
       "  </thead>\n",
       "  <tbody>\n",
       "    <tr>\n",
       "      <th>0</th>\n",
       "      <td>NEPSE</td>\n",
       "      <td>2021-12-29</td>\n",
       "      <td>2520.55</td>\n",
       "      <td>2538.78</td>\n",
       "      <td>2512.41</td>\n",
       "      <td>2524.50</td>\n",
       "      <td>0.22 %</td>\n",
       "      <td>3,623,480,291.76</td>\n",
       "    </tr>\n",
       "    <tr>\n",
       "      <th>1</th>\n",
       "      <td>NEPSE</td>\n",
       "      <td>2021-12-28</td>\n",
       "      <td>2523.87</td>\n",
       "      <td>2533.63</td>\n",
       "      <td>2486.05</td>\n",
       "      <td>2518.99</td>\n",
       "      <td>-0.11 %</td>\n",
       "      <td>3,125,575,631.56</td>\n",
       "    </tr>\n",
       "    <tr>\n",
       "      <th>2</th>\n",
       "      <td>NEPSE</td>\n",
       "      <td>2021-12-27</td>\n",
       "      <td>2600.21</td>\n",
       "      <td>2616.27</td>\n",
       "      <td>2518.16</td>\n",
       "      <td>2521.65</td>\n",
       "      <td>-2.69 %</td>\n",
       "      <td>5,607,439,670.68</td>\n",
       "    </tr>\n",
       "    <tr>\n",
       "      <th>3</th>\n",
       "      <td>NEPSE</td>\n",
       "      <td>2021-12-26</td>\n",
       "      <td>2531.43</td>\n",
       "      <td>2596.43</td>\n",
       "      <td>2531.15</td>\n",
       "      <td>2591.42</td>\n",
       "      <td>2.82 %</td>\n",
       "      <td>5,173,200,503.38</td>\n",
       "    </tr>\n",
       "    <tr>\n",
       "      <th>4</th>\n",
       "      <td>NEPSE</td>\n",
       "      <td>2021-12-23</td>\n",
       "      <td>2522.51</td>\n",
       "      <td>2542.29</td>\n",
       "      <td>2485.38</td>\n",
       "      <td>2520.23</td>\n",
       "      <td>0.50 %</td>\n",
       "      <td>4,490,266,410.23</td>\n",
       "    </tr>\n",
       "    <tr>\n",
       "      <th>...</th>\n",
       "      <td>...</td>\n",
       "      <td>...</td>\n",
       "      <td>...</td>\n",
       "      <td>...</td>\n",
       "      <td>...</td>\n",
       "      <td>...</td>\n",
       "      <td>...</td>\n",
       "      <td>...</td>\n",
       "    </tr>\n",
       "    <tr>\n",
       "      <th>233</th>\n",
       "      <td>NEPSE</td>\n",
       "      <td>2021-01-07</td>\n",
       "      <td>2181.27</td>\n",
       "      <td>2204.97</td>\n",
       "      <td>2179.09</td>\n",
       "      <td>2194.48</td>\n",
       "      <td>0.00 %</td>\n",
       "      <td>5,874,708,279.00</td>\n",
       "    </tr>\n",
       "    <tr>\n",
       "      <th>234</th>\n",
       "      <td>NEPSE</td>\n",
       "      <td>2021-01-06</td>\n",
       "      <td>2170.82</td>\n",
       "      <td>2185.20</td>\n",
       "      <td>2170.31</td>\n",
       "      <td>2178.57</td>\n",
       "      <td>0.00 %</td>\n",
       "      <td>4,425,472,339.00</td>\n",
       "    </tr>\n",
       "    <tr>\n",
       "      <th>235</th>\n",
       "      <td>NEPSE</td>\n",
       "      <td>2021-01-05</td>\n",
       "      <td>2167.82</td>\n",
       "      <td>2182.39</td>\n",
       "      <td>2149.74</td>\n",
       "      <td>2165.49</td>\n",
       "      <td>0.00 %</td>\n",
       "      <td>4,566,381,178.00</td>\n",
       "    </tr>\n",
       "    <tr>\n",
       "      <th>236</th>\n",
       "      <td>NEPSE</td>\n",
       "      <td>2021-01-04</td>\n",
       "      <td>2207.05</td>\n",
       "      <td>2216.44</td>\n",
       "      <td>2154.00</td>\n",
       "      <td>2169.04</td>\n",
       "      <td>0.00 %</td>\n",
       "      <td>5,961,733,122.00</td>\n",
       "    </tr>\n",
       "    <tr>\n",
       "      <th>237</th>\n",
       "      <td>NEPSE</td>\n",
       "      <td>2021-01-03</td>\n",
       "      <td>2104.85</td>\n",
       "      <td>2175.39</td>\n",
       "      <td>2104.85</td>\n",
       "      <td>2175.39</td>\n",
       "      <td>0.00 %</td>\n",
       "      <td>6,344,017,889.00</td>\n",
       "    </tr>\n",
       "  </tbody>\n",
       "</table>\n",
       "<p>238 rows × 8 columns</p>\n",
       "</div>"
      ],
      "text/plain": [
       "    Symbol        Date     Open     High      Low    Close Percent Change  \\\n",
       "0    NEPSE  2021-12-29  2520.55  2538.78  2512.41  2524.50         0.22 %   \n",
       "1    NEPSE  2021-12-28  2523.87  2533.63  2486.05  2518.99        -0.11 %   \n",
       "2    NEPSE  2021-12-27  2600.21  2616.27  2518.16  2521.65        -2.69 %   \n",
       "3    NEPSE  2021-12-26  2531.43  2596.43  2531.15  2591.42         2.82 %   \n",
       "4    NEPSE  2021-12-23  2522.51  2542.29  2485.38  2520.23         0.50 %   \n",
       "..     ...         ...      ...      ...      ...      ...            ...   \n",
       "233  NEPSE  2021-01-07  2181.27  2204.97  2179.09  2194.48         0.00 %   \n",
       "234  NEPSE  2021-01-06  2170.82  2185.20  2170.31  2178.57         0.00 %   \n",
       "235  NEPSE  2021-01-05  2167.82  2182.39  2149.74  2165.49         0.00 %   \n",
       "236  NEPSE  2021-01-04  2207.05  2216.44  2154.00  2169.04         0.00 %   \n",
       "237  NEPSE  2021-01-03  2104.85  2175.39  2104.85  2175.39         0.00 %   \n",
       "\n",
       "               Volume  \n",
       "0    3,623,480,291.76  \n",
       "1    3,125,575,631.56  \n",
       "2    5,607,439,670.68  \n",
       "3    5,173,200,503.38  \n",
       "4    4,490,266,410.23  \n",
       "..                ...  \n",
       "233  5,874,708,279.00  \n",
       "234  4,425,472,339.00  \n",
       "235  4,566,381,178.00  \n",
       "236  5,961,733,122.00  \n",
       "237  6,344,017,889.00  \n",
       "\n",
       "[238 rows x 8 columns]"
      ]
     },
     "execution_count": 8,
     "metadata": {},
     "output_type": "execute_result"
    }
   ],
   "source": [
    "df"
   ]
  },
  {
   "cell_type": "code",
   "execution_count": 9,
   "metadata": {},
   "outputs": [],
   "source": [
    "import os"
   ]
  },
  {
   "cell_type": "code",
   "execution_count": 10,
   "metadata": {},
   "outputs": [
    {
     "name": "stdout",
     "output_type": "stream",
     "text": [
      "Saved: c:\\Users\\hp\\My Desktop\\Tradeo\\NEPSE\\Historical Data\\2021\\NEPSE202101.csv\n",
      "Saved: c:\\Users\\hp\\My Desktop\\Tradeo\\NEPSE\\Historical Data\\2021\\NEPSE202102.csv\n",
      "Saved: c:\\Users\\hp\\My Desktop\\Tradeo\\NEPSE\\Historical Data\\2021\\NEPSE202103.csv\n",
      "Saved: c:\\Users\\hp\\My Desktop\\Tradeo\\NEPSE\\Historical Data\\2021\\NEPSE202104.csv\n",
      "Saved: c:\\Users\\hp\\My Desktop\\Tradeo\\NEPSE\\Historical Data\\2021\\NEPSE202105.csv\n",
      "Saved: c:\\Users\\hp\\My Desktop\\Tradeo\\NEPSE\\Historical Data\\2021\\NEPSE202106.csv\n",
      "Saved: c:\\Users\\hp\\My Desktop\\Tradeo\\NEPSE\\Historical Data\\2021\\NEPSE202107.csv\n",
      "Saved: c:\\Users\\hp\\My Desktop\\Tradeo\\NEPSE\\Historical Data\\2021\\NEPSE202108.csv\n",
      "Saved: c:\\Users\\hp\\My Desktop\\Tradeo\\NEPSE\\Historical Data\\2021\\NEPSE202109.csv\n",
      "Saved: c:\\Users\\hp\\My Desktop\\Tradeo\\NEPSE\\Historical Data\\2021\\NEPSE202110.csv\n",
      "Saved: c:\\Users\\hp\\My Desktop\\Tradeo\\NEPSE\\Historical Data\\2021\\NEPSE202111.csv\n",
      "Saved: c:\\Users\\hp\\My Desktop\\Tradeo\\NEPSE\\Historical Data\\2021\\NEPSE202112.csv\n"
     ]
    }
   ],
   "source": [
    "# Convert the 'Date' column to datetime format\n",
    "df['Date'] = pd.to_datetime(df['Date'])\n",
    "\n",
    "# Set 'Date' as the index for easier handling\n",
    "df.set_index('Date', inplace=True)\n",
    "\n",
    "# Get the directory where the main CSV file is located\n",
    "current_directory = os.path.dirname(os.path.abspath('../../Historical Data/2021/NEPSE2021JAN_DEC.csv'))\n",
    "\n",
    "# Loop through each unique month and year in the dataset\n",
    "for date, group in df.groupby(df.index.to_period('M')):\n",
    "    # Create a file name based on the month and year (e.g., 'NEPSE2021JAN.csv')\n",
    "    file_name = f\"NEPSE{date.year}{date.month:02d}.csv\"\n",
    "    \n",
    "    # Define the full file path, saving in the same directory\n",
    "    file_path = os.path.join(current_directory, file_name)\n",
    "    \n",
    "    # Save the data for this month to the same directory\n",
    "    group.to_csv(file_path)\n",
    "\n",
    "    print(f\"Saved: {file_path}\")"
   ]
  },
  {
   "cell_type": "code",
   "execution_count": null,
   "metadata": {},
   "outputs": [],
   "source": []
  },
  {
   "cell_type": "markdown",
   "metadata": {},
   "source": [
    "## For 2022 data"
   ]
  },
  {
   "cell_type": "code",
   "execution_count": 12,
   "metadata": {},
   "outputs": [],
   "source": [
    "df = pd.read_csv('../../Historical Data/2022/NEPSE2022JAN_2022DEC.csv')"
   ]
  },
  {
   "cell_type": "code",
   "execution_count": 13,
   "metadata": {},
   "outputs": [
    {
     "name": "stdout",
     "output_type": "stream",
     "text": [
      "Saved: c:\\Users\\hp\\My Desktop\\Tradeo\\NEPSE\\Historical Data\\2022\\NEPSE202201.csv\n",
      "Saved: c:\\Users\\hp\\My Desktop\\Tradeo\\NEPSE\\Historical Data\\2022\\NEPSE202202.csv\n",
      "Saved: c:\\Users\\hp\\My Desktop\\Tradeo\\NEPSE\\Historical Data\\2022\\NEPSE202203.csv\n",
      "Saved: c:\\Users\\hp\\My Desktop\\Tradeo\\NEPSE\\Historical Data\\2022\\NEPSE202204.csv\n",
      "Saved: c:\\Users\\hp\\My Desktop\\Tradeo\\NEPSE\\Historical Data\\2022\\NEPSE202205.csv\n",
      "Saved: c:\\Users\\hp\\My Desktop\\Tradeo\\NEPSE\\Historical Data\\2022\\NEPSE202206.csv\n",
      "Saved: c:\\Users\\hp\\My Desktop\\Tradeo\\NEPSE\\Historical Data\\2022\\NEPSE202207.csv\n",
      "Saved: c:\\Users\\hp\\My Desktop\\Tradeo\\NEPSE\\Historical Data\\2022\\NEPSE202208.csv\n",
      "Saved: c:\\Users\\hp\\My Desktop\\Tradeo\\NEPSE\\Historical Data\\2022\\NEPSE202209.csv\n",
      "Saved: c:\\Users\\hp\\My Desktop\\Tradeo\\NEPSE\\Historical Data\\2022\\NEPSE202210.csv\n",
      "Saved: c:\\Users\\hp\\My Desktop\\Tradeo\\NEPSE\\Historical Data\\2022\\NEPSE202211.csv\n",
      "Saved: c:\\Users\\hp\\My Desktop\\Tradeo\\NEPSE\\Historical Data\\2022\\NEPSE202212.csv\n"
     ]
    }
   ],
   "source": [
    "# Convert the 'Date' column to datetime format\n",
    "df['Date'] = pd.to_datetime(df['Date'])\n",
    "\n",
    "# Set 'Date' as the index for easier handling\n",
    "df.set_index('Date', inplace=True)\n",
    "\n",
    "# Get the directory where the main CSV file is located\n",
    "current_directory = os.path.dirname(os.path.abspath('../../Historical Data/2022/NEPSE2022JAN_2022DEC.csv'))\n",
    "\n",
    "# Loop through each unique month and year in the dataset\n",
    "for date, group in df.groupby(df.index.to_period('M')):\n",
    "    # Create a file name based on the month and year (e.g., 'NEPSE2021JAN.csv')\n",
    "    file_name = f\"NEPSE{date.year}{date.month:02d}.csv\"\n",
    "    \n",
    "    # Define the full file path, saving in the same directory\n",
    "    file_path = os.path.join(current_directory, file_name)\n",
    "    \n",
    "    # Save the data for this month to the same directory\n",
    "    group.to_csv(file_path)\n",
    "\n",
    "    print(f\"Saved: {file_path}\")"
   ]
  },
  {
   "cell_type": "code",
   "execution_count": null,
   "metadata": {},
   "outputs": [],
   "source": []
  },
  {
   "cell_type": "markdown",
   "metadata": {},
   "source": [
    "## For 2023"
   ]
  },
  {
   "cell_type": "code",
   "execution_count": 14,
   "metadata": {},
   "outputs": [],
   "source": [
    "df = pd.read_csv('../../Historical Data/2023/NEPSE2023JAN_2023DEC.csv')"
   ]
  },
  {
   "cell_type": "code",
   "execution_count": 15,
   "metadata": {},
   "outputs": [
    {
     "name": "stdout",
     "output_type": "stream",
     "text": [
      "Saved: c:\\Users\\hp\\My Desktop\\Tradeo\\NEPSE\\Historical Data\\2023\\NEPSE202301.csv\n",
      "Saved: c:\\Users\\hp\\My Desktop\\Tradeo\\NEPSE\\Historical Data\\2023\\NEPSE202302.csv\n",
      "Saved: c:\\Users\\hp\\My Desktop\\Tradeo\\NEPSE\\Historical Data\\2023\\NEPSE202303.csv\n",
      "Saved: c:\\Users\\hp\\My Desktop\\Tradeo\\NEPSE\\Historical Data\\2023\\NEPSE202304.csv\n",
      "Saved: c:\\Users\\hp\\My Desktop\\Tradeo\\NEPSE\\Historical Data\\2023\\NEPSE202305.csv\n",
      "Saved: c:\\Users\\hp\\My Desktop\\Tradeo\\NEPSE\\Historical Data\\2023\\NEPSE202306.csv\n",
      "Saved: c:\\Users\\hp\\My Desktop\\Tradeo\\NEPSE\\Historical Data\\2023\\NEPSE202307.csv\n",
      "Saved: c:\\Users\\hp\\My Desktop\\Tradeo\\NEPSE\\Historical Data\\2023\\NEPSE202308.csv\n",
      "Saved: c:\\Users\\hp\\My Desktop\\Tradeo\\NEPSE\\Historical Data\\2023\\NEPSE202309.csv\n",
      "Saved: c:\\Users\\hp\\My Desktop\\Tradeo\\NEPSE\\Historical Data\\2023\\NEPSE202310.csv\n",
      "Saved: c:\\Users\\hp\\My Desktop\\Tradeo\\NEPSE\\Historical Data\\2023\\NEPSE202311.csv\n",
      "Saved: c:\\Users\\hp\\My Desktop\\Tradeo\\NEPSE\\Historical Data\\2023\\NEPSE202312.csv\n"
     ]
    }
   ],
   "source": [
    "# Convert the 'Date' column to datetime format\n",
    "df['Date'] = pd.to_datetime(df['Date'])\n",
    "\n",
    "# Set 'Date' as the index for easier handling\n",
    "df.set_index('Date', inplace=True)\n",
    "\n",
    "# Get the directory where the main CSV file is located\n",
    "current_directory = os.path.dirname(os.path.abspath('../../Historical Data/2023/NEPSE2023JAN_2023DEC.csv'))\n",
    "\n",
    "# Loop through each unique month and year in the dataset\n",
    "for date, group in df.groupby(df.index.to_period('M')):\n",
    "    # Create a file name based on the month and year (e.g., 'NEPSE2021JAN.csv')\n",
    "    file_name = f\"NEPSE{date.year}{date.month:02d}.csv\"\n",
    "    \n",
    "    # Define the full file path, saving in the same directory\n",
    "    file_path = os.path.join(current_directory, file_name)\n",
    "    \n",
    "    # Save the data for this month to the same directory\n",
    "    group.to_csv(file_path)\n",
    "\n",
    "    print(f\"Saved: {file_path}\")"
   ]
  },
  {
   "cell_type": "code",
   "execution_count": null,
   "metadata": {},
   "outputs": [],
   "source": []
  },
  {
   "cell_type": "markdown",
   "metadata": {},
   "source": [
    "Here i will lets do for the finance data as well \n"
   ]
  }
 ],
 "metadata": {
  "kernelspec": {
   "display_name": "Python 3",
   "language": "python",
   "name": "python3"
  },
  "language_info": {
   "codemirror_mode": {
    "name": "ipython",
    "version": 3
   },
   "file_extension": ".py",
   "mimetype": "text/x-python",
   "name": "python",
   "nbconvert_exporter": "python",
   "pygments_lexer": "ipython3",
   "version": "3.10.0"
  }
 },
 "nbformat": 4,
 "nbformat_minor": 2
}
